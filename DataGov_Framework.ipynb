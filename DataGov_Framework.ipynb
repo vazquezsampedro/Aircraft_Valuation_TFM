{
  "nbformat": 4,
  "nbformat_minor": 0,
  "metadata": {
    "colab": {
      "provenance": [],
      "authorship_tag": "ABX9TyNYXXvtv6cp0LVE9l+J5peG",
      "include_colab_link": true
    },
    "kernelspec": {
      "name": "python3",
      "display_name": "Python 3"
    },
    "language_info": {
      "name": "python"
    }
  },
  "cells": [
    {
      "cell_type": "markdown",
      "metadata": {
        "id": "view-in-github",
        "colab_type": "text"
      },
      "source": [
        "<a href=\"https://colab.research.google.com/github/vazquezsampedro/Aircraft_Valuation_TFM/blob/main/DataGov_Framework.ipynb\" target=\"_parent\"><img src=\"https://colab.research.google.com/assets/colab-badge.svg\" alt=\"Open In Colab\"/></a>"
      ]
    },
    {
      "cell_type": "markdown",
      "source": [
        "# Data Quality & Governance Framework"
      ],
      "metadata": {
        "id": "Zm-HQFQP8-AJ"
      }
    },
    {
      "cell_type": "code",
      "execution_count": 55,
      "metadata": {
        "colab": {
          "base_uri": "https://localhost:8080/"
        },
        "id": "01KPl6sbv4zI",
        "outputId": "676121a6-4317-489a-ea57-321d8705cef9"
      },
      "outputs": [
        {
          "output_type": "stream",
          "name": "stdout",
          "text": [
            "Requirement already satisfied: pyspark in /usr/local/lib/python3.11/dist-packages (3.5.5)\n",
            "Requirement already satisfied: py4j==0.10.9.7 in /usr/local/lib/python3.11/dist-packages (from pyspark) (0.10.9.7)\n"
          ]
        }
      ],
      "source": [
        "!pip install pyspark"
      ]
    },
    {
      "cell_type": "code",
      "source": [
        "from pyspark.sql import SparkSession\n",
        "import os\n",
        "from pyspark.sql.functions import to_date, col\n",
        "import pandas as pd"
      ],
      "metadata": {
        "id": "Jf8fNhsWxECG"
      },
      "execution_count": 56,
      "outputs": []
    },
    {
      "cell_type": "code",
      "source": [
        "spark = SparkSession.builder \\\n",
        "    .appName(\"FrameWorkDataGovernance\") \\\n",
        "    .getOrCreate()"
      ],
      "metadata": {
        "id": "W4lt-SGExG6m"
      },
      "execution_count": 57,
      "outputs": []
    },
    {
      "cell_type": "code",
      "source": [
        "class CSVHandler:\n",
        "    def __init__(self, spark_session):\n",
        "        self.spark = spark_session\n",
        "    def show_dataframe(self, dataframe):\n",
        "        dataframe.show()\n",
        "    def show_headers_from_file_path(self, file_path):\n",
        "        file_path = os.path.abspath(file_path)\n",
        "        if not os.path.exists(file_path):\n",
        "            raise FileNotFoundError(f\"El archivo {file_path} no existe.\")\n",
        "        dataframe = self.spark.read.csv(file_path, header=True, sep=\";\", encoding=\"latin1\") #encoding added\n",
        "        print(dataframe.columns)\n",
        "    def csv_reader(self, file_path):\n",
        "      try:\n",
        "        pandas_df = pd.read_csv(file_path, sep=';', encoding=\"latin1\") #encoding added\n",
        "        return pandas_df.head(10)\n",
        "      except FileNotFoundError:\n",
        "        print(f\"Error: File not found at {file_path}\")\n",
        "        return None\n",
        "      except pd.errors.ParserError:\n",
        "        print(f\"Error: Could not parse the CSV file at {file_path}. Check the file format and separator.\")\n",
        "        return None\n",
        "      except Exception as e:\n",
        "        print(f\"An unexpected error occurred: {e}\")\n",
        "        return None\n"
      ],
      "metadata": {
        "id": "LetrkdzY18vt"
      },
      "execution_count": 58,
      "outputs": []
    },
    {
      "cell_type": "code",
      "source": [
        "class DataQualityRules:\n",
        "\n",
        "    def __init__(self, spark_session):\n",
        "        self.spark = spark_session\n",
        "\n",
        "    # Schema = Ventas\n",
        "    def is_first_column_dates(self, dataframe):\n",
        "        try:\n",
        "            id_column = dataframe.columns[0]\n",
        "            transaction_date_column = dataframe.columns[4]\n",
        "\n",
        "            dataframe_with_dates = dataframe.withColumn(\"is_date\", to_date(col(transaction_date_column), \"dd/MM/yyyy\"))\n",
        "            invalid_dates = dataframe_with_dates.filter(col(\"is_date\").isNull() & col(transaction_date_column).isNotNull()).select(id_column, transaction_date_column).collect()\n",
        "            for row in invalid_dates:\n",
        "                print(f\"Para {row[id_column]}, ha fallado el siguiente campo '{row[transaction_date_column]}'\")\n",
        "            if len(invalid_dates) == 0:\n",
        "                return True\n",
        "            return False\n",
        "        except Exception as e:\n",
        "            print(f\"Error al verificar si la columna 'TransactionDate' contiene fechas: {e}\")\n",
        "            return False\n",
        "\n",
        "    def validate_payment_method(self, dataframe):\n",
        "        payment_column = dataframe.columns[3]\n",
        "        id_column = dataframe.columns[0]\n",
        "        valid_methods = [\"Credit Card\", \"Debit Card\", \"Bank Transfer\"]\n",
        "\n",
        "        invalid_rows = dataframe.filter(~col(payment_column).isin(valid_methods))\n",
        "        invalid_rows.select(id_column, payment_column).collect()\n",
        "\n",
        "        for row in invalid_rows.collect():\n",
        "            print(f\"{row[id_column]} = {row[payment_column]}, Payment Method is incorrect\")\n",
        "\n",
        "    # Schema = Logistica\n",
        "    def validate_stock_quantity(self, dataframe):\n",
        "        try:\n",
        "            id_column = dataframe.columns[0]\n",
        "            stock_column = dataframe.columns[4]\n",
        "\n",
        "            low_stock_rows = dataframe.filter(col(stock_column) < 100)\n",
        "            for row in low_stock_rows.collect():\n",
        "                print(f\"Para {row[id_column]}, el número de productos de stock es bajo {row[stock_column]}\")\n",
        "        except Exception as e:\n",
        "            print(f\"Error al verificar la cantidad de stock: {e}\")\n",
        "\n",
        "    def validate_delivery_status(self, dataframe):\n",
        "        try:\n",
        "            id_column = dataframe.columns[0]\n",
        "            status_column = dataframe.columns[11]\n",
        "\n",
        "            not_delivered_rows = dataframe.filter(col(status_column) != \"Delivered\")\n",
        "            for row in not_delivered_rows.collect():\n",
        "                print(f\"'{row[id_column]}' aún no se ha entregado - El estado es '{row[status_column]}'\")\n",
        "        except Exception as e:\n",
        "            print(f\"Error al verificar el estado de entrega: {e}\")"
      ],
      "metadata": {
        "id": "oMU16GjLxead"
      },
      "execution_count": 59,
      "outputs": []
    },
    {
      "cell_type": "code",
      "source": [
        "csv_handler = CSVHandler(spark)\n",
        "\n",
        "file_path = '/content/Marzo2025_Ventas.csv'\n",
        "head_of_csv = csv_handler.csv_reader(file_path)\n",
        "\n",
        "print(head_of_csv.head(10))"
      ],
      "metadata": {
        "colab": {
          "base_uri": "https://localhost:8080/"
        },
        "collapsed": true,
        "id": "EJ_db8V61okS",
        "outputId": "c3e30810-69b5-46c5-e94d-f82c8ec57fa8"
      },
      "execution_count": 60,
      "outputs": [
        {
          "output_type": "stream",
          "name": "stdout",
          "text": [
            "      TransactionID          OrderID   CustomerName PaymentMethod  \\\n",
            "T001           1001       Juan Pérez    Credit Card    01/03/2025   \n",
            "T002           1002       Ana García         PayPal    02/03/2025   \n",
            "T003           1003    Luis Martínez     Debit Card         error   \n",
            "T004           1004      María López    Credit Card    04/03/2025   \n",
            "T005           1005    Pedro Sánchez  Bank Transfer    05/03/2025   \n",
            "T006           1006  Laura Fernández    Credit Card    06/03/2025   \n",
            "T007           1007      Carlos Ruiz         PayPal    07/03/2025   \n",
            "T008           1008      Elena Gómez     Debit Card    08/03/2025   \n",
            "T009           1009    Javier Torres  Bank Transfer    09/03/2025   \n",
            "T010           1010       Marta Díaz    Credit Card    10/03/2025   \n",
            "\n",
            "      TransactionDate  Amount  Tax  Discount NetAmount        PaymentStatus  \\\n",
            "T001             2400     240  240      2160      Paid      123 Calle Falsa   \n",
            "T002              800      80   40       760      Paid     456 Avenida Real   \n",
            "T003              900      90  135       765      Paid      789 Plaza Mayor   \n",
            "T004              500      50  100       400      Paid      101 Calle Nueva   \n",
            "T005              500      50   50       450      Paid  202 Avenida Central   \n",
            "T006              200      20   10       190      Paid      303 Calle Verde   \n",
            "T007              180      18   18       162      Paid     404 Avenida Azul   \n",
            "T008              150      15   22       127      Paid       505 Plaza Roja   \n",
            "T009              240      24   48       192      Paid   606 Calle Amarilla   \n",
            "T010              240      24   24       216      Paid   707 Avenida Blanca   \n",
            "\n",
            "     BillingAddress  AccountNumber         BankName  \n",
            "T001         Madrid     1234567890  Banco Santander  \n",
            "T002      Barcelona      987654321             BBVA  \n",
            "T003       Valencia     1122334455        CaixaBank  \n",
            "T004        Sevilla     6677889900   Banco Sabadell  \n",
            "T005         Bilbao     5566778899              ING  \n",
            "T006       Zaragoza     3344556677  Banco Santander  \n",
            "T007         Málaga     2233445566             BBVA  \n",
            "T008        Granada     1122334455        CaixaBank  \n",
            "T009         Murcia     6677889900   Banco Sabadell  \n",
            "T010       Alicante     5566778899              ING  \n"
          ]
        }
      ]
    },
    {
      "cell_type": "markdown",
      "source": [],
      "metadata": {
        "id": "x-NahSHl8o91"
      }
    },
    {
      "cell_type": "code",
      "source": [
        "# Instance for Class DataQualityRules over FilePath\n",
        "data_quality_rules = DataQualityRules(spark)\n",
        "file_path = '/content/Marzo2025_Ventas.csv'\n",
        "\n",
        "try:\n",
        "  dataframe = spark.read.csv(file_path, header=True, sep=\";\", encoding=\"latin1\")\n",
        "  is_first_column_dates = data_quality_rules.is_first_column_dates(dataframe)\n",
        "  print(\"\"\n",
        "  \"Regla TransactionDate ejecutada\")\n",
        "except Exception as e:\n",
        "  print(f\"Error al leer el archivo CSV: {e}\")\n",
        "\n",
        "try:\n",
        "  dataframe = spark.read.csv(file_path, header=True, sep=\";\", encoding=\"latin1\")\n",
        "  data_quality_rules.validate_payment_method(dataframe)\n",
        "  print(\"\"\n",
        "  \"Regla Payment Method ejecutada\")\n",
        "\n",
        "except Exception as e:\n",
        "  print(f\"Error al leer el archivo CSV: {e}\")"
      ],
      "metadata": {
        "colab": {
          "base_uri": "https://localhost:8080/"
        },
        "id": "N_VBbxY935QQ",
        "outputId": "ca7c58f0-2204-4c82-cd7f-c55d648ae9da"
      },
      "execution_count": 66,
      "outputs": [
        {
          "output_type": "stream",
          "name": "stdout",
          "text": [
            "Para T003, ha fallado el siguiente campo 'error'\n",
            "Regla TransactionDate ejecutada\n",
            "T002 = PayPal, Payment Method is incorrect\n",
            "T007 = PayPal, Payment Method is incorrect\n",
            "Regla Payment Method ejecutada\n"
          ]
        }
      ]
    },
    {
      "cell_type": "code",
      "source": [],
      "metadata": {
        "id": "r-Q0dt1i8XEq"
      },
      "execution_count": null,
      "outputs": []
    }
  ]
}